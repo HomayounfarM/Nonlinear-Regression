{
  "nbformat": 4,
  "nbformat_minor": 0,
  "metadata": {
    "colab": {
      "name": "Untitled5.ipynb",
      "private_outputs": true,
      "provenance": [],
      "collapsed_sections": [],
      "authorship_tag": "ABX9TyMD/Zf2ZzxEbWBVm3k9UxWB",
      "include_colab_link": true
    },
    "kernelspec": {
      "name": "python3",
      "display_name": "Python 3"
    },
    "language_info": {
      "name": "python"
    }
  },
  "cells": [
    {
      "cell_type": "markdown",
      "metadata": {
        "id": "view-in-github",
        "colab_type": "text"
      },
      "source": [
        "<a href=\"https://colab.research.google.com/github/HomayounfarM/Nonlinear-Regression/blob/main/Random-Forest/colab-RF.ipynb\" target=\"_parent\"><img src=\"https://colab.research.google.com/assets/colab-badge.svg\" alt=\"Open In Colab\"/></a>"
      ]
    },
    {
      "cell_type": "markdown",
      "source": [
        "https://github.com/HomayounfarM/Nonlinear-Regression\n",
        "Random forest regression\n"
      ],
      "metadata": {
        "id": "jyR1Y2TUHv-H"
      }
    },
    {
      "cell_type": "code",
      "source": [
        "import ssl\n",
        "ssl._create_default_https_context = ssl._create_unverified_context\n",
        "import pandas as pd\n",
        "url = \"https://raw.githubusercontent.com/HomayounfarM/Nonlinear-Regression/main/Random-Forest/Position_Salaries.csv\"\n",
        "dataset = pd.read_csv(url)"
      ],
      "metadata": {
        "id": "LcDkQ8Q8IQju"
      },
      "execution_count": null,
      "outputs": []
    },
    {
      "cell_type": "code",
      "execution_count": null,
      "metadata": {
        "id": "2XrBPOrXHq7Q"
      },
      "outputs": [],
      "source": [
        "# Importnigg the library\n",
        "import numpy as np\n",
        "import pandas as pd\n",
        "import matplotlib.pyplot as plt\n",
        "import os"
      ]
    },
    {
      "cell_type": "code",
      "source": [
        "# Importing the dataset\n",
        "\n",
        "for file in os.listdir():\n",
        "    if file.endswith('.csv'):\n",
        "        name = file\n",
        "dataset = pd.read_csv(name)\n",
        "\n",
        "X = dataset.iloc[:,1:2].values\n",
        "y = dataset.iloc[:,2].values"
      ],
      "metadata": {
        "id": "0989BOlmH-D4"
      },
      "execution_count": null,
      "outputs": []
    },
    {
      "cell_type": "code",
      "source": [
        "X = dataset.iloc[:,1:2].values\n",
        "y = dataset.iloc[:,2].values"
      ],
      "metadata": {
        "id": "A8cuaHupIqln"
      },
      "execution_count": null,
      "outputs": []
    },
    {
      "cell_type": "code",
      "source": [
        "# Fitting random forest regression to the data set\n",
        "from sklearn.ensemble import RandomForestRegressor\n",
        "regressor = RandomForestRegressor(n_estimators = 300, random_state = 0)\n",
        "regressor.fit(X, y)"
      ],
      "metadata": {
        "id": "XB1njSSfIDeW"
      },
      "execution_count": null,
      "outputs": []
    },
    {
      "cell_type": "code",
      "source": [
        "# Predicting a new result\n",
        "sample = 6.5\n",
        "sample = np.array(sample).reshape(-1,1)\n",
        "y_pred = regressor.predict(sample)"
      ],
      "metadata": {
        "id": "CPxj9g04IGWO"
      },
      "execution_count": null,
      "outputs": []
    },
    {
      "cell_type": "code",
      "source": [
        "# Visualising the regression results (For high resolution and smoother curve)\n",
        "X_grid = np.arange(min(X), max(X), 0.01)\n",
        "X_grid = X_grid.reshape(len(X_grid), 1)\n",
        "plt.scatter(X, y, color = 'red')\n",
        "plt.plot(X_grid, regressor.predict(X_grid), color = 'blue')\n",
        "plt.title('True or Bluf - Random Forest')\n",
        "plt.xlabel('Position level')\n",
        "plt.ylabel('Salary')\n",
        "plt.show()"
      ],
      "metadata": {
        "id": "M48oMT_RIJm3"
      },
      "execution_count": null,
      "outputs": []
    }
  ]
}